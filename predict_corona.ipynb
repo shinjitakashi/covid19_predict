{
 "cells": [
  {
   "cell_type": "code",
   "execution_count": 1,
   "metadata": {},
   "outputs": [],
   "source": [
    "import torch\n",
    "import torch.nn as nn\n",
    "import numpy as np\n",
    "import pandas as pd\n",
    "import matplotlib.pyplot as plt\n",
    "%matplotlib inline\n",
    "\n",
    "import os\n",
    "import shutil\n",
    "\n",
    "from pandas.plotting import register_matplotlib_converters\n"
   ]
  },
  {
   "cell_type": "code",
   "execution_count": 2,
   "metadata": {},
   "outputs": [
    {
     "data": {
      "text/plain": [
       "'C:\\\\Users\\\\zooondatch\\\\Documents\\\\code\\\\Pytorch_practie'"
      ]
     },
     "execution_count": 2,
     "metadata": {},
     "output_type": "execute_result"
    }
   ],
   "source": [
    "os.getcwd()"
   ]
  },
  {
   "cell_type": "code",
   "execution_count": 3,
   "metadata": {},
   "outputs": [],
   "source": [
    "os.chdir('C:\\\\Users\\zooondatch\\Documents\\code\\Pytorch_practie\\COVID-19\\csse_covid_19_data\\csse_covid_19_time_series')"
   ]
  },
  {
   "cell_type": "code",
   "execution_count": 4,
   "metadata": {},
   "outputs": [
    {
     "data": {
      "text/plain": [
       "['.gitignore',\n",
       " 'Errata.csv',\n",
       " 'README.md',\n",
       " 'time_series_covid19_confirmed_global.csv',\n",
       " 'time_series_covid19_confirmed_US.csv',\n",
       " 'time_series_covid19_deaths_global.csv',\n",
       " 'time_series_covid19_deaths_US.csv',\n",
       " 'time_series_covid19_recovered_global.csv']"
      ]
     },
     "execution_count": 4,
     "metadata": {},
     "output_type": "execute_result"
    }
   ],
   "source": [
    "os.listdir()"
   ]
  },
  {
   "cell_type": "code",
   "execution_count": 20,
   "metadata": {},
   "outputs": [],
   "source": [
    "df = pd.read_csv('time_series_covid19_confirmed_global.csv')"
   ]
  },
  {
   "cell_type": "code",
   "execution_count": 21,
   "metadata": {
    "scrolled": false
   },
   "outputs": [
    {
     "data": {
      "text/html": [
       "<div>\n",
       "<style scoped>\n",
       "    .dataframe tbody tr th:only-of-type {\n",
       "        vertical-align: middle;\n",
       "    }\n",
       "\n",
       "    .dataframe tbody tr th {\n",
       "        vertical-align: top;\n",
       "    }\n",
       "\n",
       "    .dataframe thead th {\n",
       "        text-align: right;\n",
       "    }\n",
       "</style>\n",
       "<table border=\"1\" class=\"dataframe\">\n",
       "  <thead>\n",
       "    <tr style=\"text-align: right;\">\n",
       "      <th></th>\n",
       "      <th>Province/State</th>\n",
       "      <th>Country/Region</th>\n",
       "      <th>Lat</th>\n",
       "      <th>Long</th>\n",
       "      <th>1/22/20</th>\n",
       "      <th>1/23/20</th>\n",
       "      <th>1/24/20</th>\n",
       "      <th>1/25/20</th>\n",
       "      <th>1/26/20</th>\n",
       "      <th>1/27/20</th>\n",
       "      <th>...</th>\n",
       "      <th>4/26/20</th>\n",
       "      <th>4/27/20</th>\n",
       "      <th>4/28/20</th>\n",
       "      <th>4/29/20</th>\n",
       "      <th>4/30/20</th>\n",
       "      <th>5/1/20</th>\n",
       "      <th>5/2/20</th>\n",
       "      <th>5/3/20</th>\n",
       "      <th>5/4/20</th>\n",
       "      <th>5/5/20</th>\n",
       "    </tr>\n",
       "  </thead>\n",
       "  <tbody>\n",
       "    <tr>\n",
       "      <th>0</th>\n",
       "      <td>NaN</td>\n",
       "      <td>Afghanistan</td>\n",
       "      <td>33.000000</td>\n",
       "      <td>65.000000</td>\n",
       "      <td>0</td>\n",
       "      <td>0</td>\n",
       "      <td>0</td>\n",
       "      <td>0</td>\n",
       "      <td>0</td>\n",
       "      <td>0</td>\n",
       "      <td>...</td>\n",
       "      <td>1531</td>\n",
       "      <td>1703</td>\n",
       "      <td>1828</td>\n",
       "      <td>1939</td>\n",
       "      <td>2171</td>\n",
       "      <td>2335</td>\n",
       "      <td>2469</td>\n",
       "      <td>2704</td>\n",
       "      <td>2894</td>\n",
       "      <td>3224</td>\n",
       "    </tr>\n",
       "    <tr>\n",
       "      <th>1</th>\n",
       "      <td>NaN</td>\n",
       "      <td>Albania</td>\n",
       "      <td>41.153300</td>\n",
       "      <td>20.168300</td>\n",
       "      <td>0</td>\n",
       "      <td>0</td>\n",
       "      <td>0</td>\n",
       "      <td>0</td>\n",
       "      <td>0</td>\n",
       "      <td>0</td>\n",
       "      <td>...</td>\n",
       "      <td>726</td>\n",
       "      <td>736</td>\n",
       "      <td>750</td>\n",
       "      <td>766</td>\n",
       "      <td>773</td>\n",
       "      <td>782</td>\n",
       "      <td>789</td>\n",
       "      <td>795</td>\n",
       "      <td>803</td>\n",
       "      <td>820</td>\n",
       "    </tr>\n",
       "    <tr>\n",
       "      <th>2</th>\n",
       "      <td>NaN</td>\n",
       "      <td>Algeria</td>\n",
       "      <td>28.033900</td>\n",
       "      <td>1.659600</td>\n",
       "      <td>0</td>\n",
       "      <td>0</td>\n",
       "      <td>0</td>\n",
       "      <td>0</td>\n",
       "      <td>0</td>\n",
       "      <td>0</td>\n",
       "      <td>...</td>\n",
       "      <td>3382</td>\n",
       "      <td>3517</td>\n",
       "      <td>3649</td>\n",
       "      <td>3848</td>\n",
       "      <td>4006</td>\n",
       "      <td>4154</td>\n",
       "      <td>4295</td>\n",
       "      <td>4474</td>\n",
       "      <td>4648</td>\n",
       "      <td>4838</td>\n",
       "    </tr>\n",
       "    <tr>\n",
       "      <th>3</th>\n",
       "      <td>NaN</td>\n",
       "      <td>Andorra</td>\n",
       "      <td>42.506300</td>\n",
       "      <td>1.521800</td>\n",
       "      <td>0</td>\n",
       "      <td>0</td>\n",
       "      <td>0</td>\n",
       "      <td>0</td>\n",
       "      <td>0</td>\n",
       "      <td>0</td>\n",
       "      <td>...</td>\n",
       "      <td>738</td>\n",
       "      <td>743</td>\n",
       "      <td>743</td>\n",
       "      <td>743</td>\n",
       "      <td>745</td>\n",
       "      <td>745</td>\n",
       "      <td>747</td>\n",
       "      <td>748</td>\n",
       "      <td>750</td>\n",
       "      <td>751</td>\n",
       "    </tr>\n",
       "    <tr>\n",
       "      <th>4</th>\n",
       "      <td>NaN</td>\n",
       "      <td>Angola</td>\n",
       "      <td>-11.202700</td>\n",
       "      <td>17.873900</td>\n",
       "      <td>0</td>\n",
       "      <td>0</td>\n",
       "      <td>0</td>\n",
       "      <td>0</td>\n",
       "      <td>0</td>\n",
       "      <td>0</td>\n",
       "      <td>...</td>\n",
       "      <td>26</td>\n",
       "      <td>27</td>\n",
       "      <td>27</td>\n",
       "      <td>27</td>\n",
       "      <td>27</td>\n",
       "      <td>30</td>\n",
       "      <td>35</td>\n",
       "      <td>35</td>\n",
       "      <td>35</td>\n",
       "      <td>36</td>\n",
       "    </tr>\n",
       "    <tr>\n",
       "      <th>...</th>\n",
       "      <td>...</td>\n",
       "      <td>...</td>\n",
       "      <td>...</td>\n",
       "      <td>...</td>\n",
       "      <td>...</td>\n",
       "      <td>...</td>\n",
       "      <td>...</td>\n",
       "      <td>...</td>\n",
       "      <td>...</td>\n",
       "      <td>...</td>\n",
       "      <td>...</td>\n",
       "      <td>...</td>\n",
       "      <td>...</td>\n",
       "      <td>...</td>\n",
       "      <td>...</td>\n",
       "      <td>...</td>\n",
       "      <td>...</td>\n",
       "      <td>...</td>\n",
       "      <td>...</td>\n",
       "      <td>...</td>\n",
       "      <td>...</td>\n",
       "    </tr>\n",
       "    <tr>\n",
       "      <th>261</th>\n",
       "      <td>NaN</td>\n",
       "      <td>Western Sahara</td>\n",
       "      <td>24.215500</td>\n",
       "      <td>-12.885800</td>\n",
       "      <td>0</td>\n",
       "      <td>0</td>\n",
       "      <td>0</td>\n",
       "      <td>0</td>\n",
       "      <td>0</td>\n",
       "      <td>0</td>\n",
       "      <td>...</td>\n",
       "      <td>6</td>\n",
       "      <td>6</td>\n",
       "      <td>6</td>\n",
       "      <td>6</td>\n",
       "      <td>6</td>\n",
       "      <td>6</td>\n",
       "      <td>6</td>\n",
       "      <td>6</td>\n",
       "      <td>6</td>\n",
       "      <td>6</td>\n",
       "    </tr>\n",
       "    <tr>\n",
       "      <th>262</th>\n",
       "      <td>NaN</td>\n",
       "      <td>Sao Tome and Principe</td>\n",
       "      <td>0.186360</td>\n",
       "      <td>6.613081</td>\n",
       "      <td>0</td>\n",
       "      <td>0</td>\n",
       "      <td>0</td>\n",
       "      <td>0</td>\n",
       "      <td>0</td>\n",
       "      <td>0</td>\n",
       "      <td>...</td>\n",
       "      <td>4</td>\n",
       "      <td>4</td>\n",
       "      <td>8</td>\n",
       "      <td>8</td>\n",
       "      <td>14</td>\n",
       "      <td>16</td>\n",
       "      <td>16</td>\n",
       "      <td>16</td>\n",
       "      <td>23</td>\n",
       "      <td>174</td>\n",
       "    </tr>\n",
       "    <tr>\n",
       "      <th>263</th>\n",
       "      <td>NaN</td>\n",
       "      <td>Yemen</td>\n",
       "      <td>15.552727</td>\n",
       "      <td>48.516388</td>\n",
       "      <td>0</td>\n",
       "      <td>0</td>\n",
       "      <td>0</td>\n",
       "      <td>0</td>\n",
       "      <td>0</td>\n",
       "      <td>0</td>\n",
       "      <td>...</td>\n",
       "      <td>1</td>\n",
       "      <td>1</td>\n",
       "      <td>1</td>\n",
       "      <td>6</td>\n",
       "      <td>6</td>\n",
       "      <td>7</td>\n",
       "      <td>10</td>\n",
       "      <td>10</td>\n",
       "      <td>12</td>\n",
       "      <td>22</td>\n",
       "    </tr>\n",
       "    <tr>\n",
       "      <th>264</th>\n",
       "      <td>NaN</td>\n",
       "      <td>Comoros</td>\n",
       "      <td>-11.645500</td>\n",
       "      <td>43.333300</td>\n",
       "      <td>0</td>\n",
       "      <td>0</td>\n",
       "      <td>0</td>\n",
       "      <td>0</td>\n",
       "      <td>0</td>\n",
       "      <td>0</td>\n",
       "      <td>...</td>\n",
       "      <td>0</td>\n",
       "      <td>0</td>\n",
       "      <td>0</td>\n",
       "      <td>0</td>\n",
       "      <td>1</td>\n",
       "      <td>1</td>\n",
       "      <td>3</td>\n",
       "      <td>3</td>\n",
       "      <td>3</td>\n",
       "      <td>3</td>\n",
       "    </tr>\n",
       "    <tr>\n",
       "      <th>265</th>\n",
       "      <td>NaN</td>\n",
       "      <td>Tajikistan</td>\n",
       "      <td>38.861034</td>\n",
       "      <td>71.276093</td>\n",
       "      <td>0</td>\n",
       "      <td>0</td>\n",
       "      <td>0</td>\n",
       "      <td>0</td>\n",
       "      <td>0</td>\n",
       "      <td>0</td>\n",
       "      <td>...</td>\n",
       "      <td>0</td>\n",
       "      <td>0</td>\n",
       "      <td>0</td>\n",
       "      <td>0</td>\n",
       "      <td>15</td>\n",
       "      <td>15</td>\n",
       "      <td>76</td>\n",
       "      <td>128</td>\n",
       "      <td>230</td>\n",
       "      <td>293</td>\n",
       "    </tr>\n",
       "  </tbody>\n",
       "</table>\n",
       "<p>266 rows × 109 columns</p>\n",
       "</div>"
      ],
      "text/plain": [
       "    Province/State         Country/Region        Lat       Long  1/22/20  \\\n",
       "0              NaN            Afghanistan  33.000000  65.000000        0   \n",
       "1              NaN                Albania  41.153300  20.168300        0   \n",
       "2              NaN                Algeria  28.033900   1.659600        0   \n",
       "3              NaN                Andorra  42.506300   1.521800        0   \n",
       "4              NaN                 Angola -11.202700  17.873900        0   \n",
       "..             ...                    ...        ...        ...      ...   \n",
       "261            NaN         Western Sahara  24.215500 -12.885800        0   \n",
       "262            NaN  Sao Tome and Principe   0.186360   6.613081        0   \n",
       "263            NaN                  Yemen  15.552727  48.516388        0   \n",
       "264            NaN                Comoros -11.645500  43.333300        0   \n",
       "265            NaN             Tajikistan  38.861034  71.276093        0   \n",
       "\n",
       "     1/23/20  1/24/20  1/25/20  1/26/20  1/27/20  ...  4/26/20  4/27/20  \\\n",
       "0          0        0        0        0        0  ...     1531     1703   \n",
       "1          0        0        0        0        0  ...      726      736   \n",
       "2          0        0        0        0        0  ...     3382     3517   \n",
       "3          0        0        0        0        0  ...      738      743   \n",
       "4          0        0        0        0        0  ...       26       27   \n",
       "..       ...      ...      ...      ...      ...  ...      ...      ...   \n",
       "261        0        0        0        0        0  ...        6        6   \n",
       "262        0        0        0        0        0  ...        4        4   \n",
       "263        0        0        0        0        0  ...        1        1   \n",
       "264        0        0        0        0        0  ...        0        0   \n",
       "265        0        0        0        0        0  ...        0        0   \n",
       "\n",
       "     4/28/20  4/29/20  4/30/20  5/1/20  5/2/20  5/3/20  5/4/20  5/5/20  \n",
       "0       1828     1939     2171    2335    2469    2704    2894    3224  \n",
       "1        750      766      773     782     789     795     803     820  \n",
       "2       3649     3848     4006    4154    4295    4474    4648    4838  \n",
       "3        743      743      745     745     747     748     750     751  \n",
       "4         27       27       27      30      35      35      35      36  \n",
       "..       ...      ...      ...     ...     ...     ...     ...     ...  \n",
       "261        6        6        6       6       6       6       6       6  \n",
       "262        8        8       14      16      16      16      23     174  \n",
       "263        1        6        6       7      10      10      12      22  \n",
       "264        0        0        1       1       3       3       3       3  \n",
       "265        0        0       15      15      76     128     230     293  \n",
       "\n",
       "[266 rows x 109 columns]"
      ]
     },
     "execution_count": 21,
     "metadata": {},
     "output_type": "execute_result"
    }
   ],
   "source": [
    "df"
   ]
  },
  {
   "cell_type": "code",
   "execution_count": 217,
   "metadata": {},
   "outputs": [
    {
     "data": {
      "text/plain": [
       "3/1/20      256\n",
       "3/2/20      274\n",
       "3/3/20      293\n",
       "3/4/20      331\n",
       "3/5/20      360\n",
       "          ...  \n",
       "5/1/20    14305\n",
       "5/2/20    14571\n",
       "5/3/20    14877\n",
       "5/4/20    15078\n",
       "5/5/20    15253\n",
       "Name: 139, Length: 66, dtype: object"
      ]
     },
     "execution_count": 217,
     "metadata": {},
     "output_type": "execute_result"
    }
   ],
   "source": [
    "df_japan = df.loc[df['Country/Region'] == 'Japan']\n",
    "\n",
    "df_japan = df_japan.iloc[0, 43:]\n",
    "df_japan"
   ]
  },
  {
   "cell_type": "code",
   "execution_count": null,
   "metadata": {},
   "outputs": [],
   "source": []
  },
  {
   "cell_type": "code",
   "execution_count": 218,
   "metadata": {},
   "outputs": [
    {
     "data": {
      "text/plain": [
       "2020-03-01      256\n",
       "2020-03-02      274\n",
       "2020-03-03      293\n",
       "2020-03-04      331\n",
       "2020-03-05      360\n",
       "              ...  \n",
       "2020-05-01    14305\n",
       "2020-05-02    14571\n",
       "2020-05-03    14877\n",
       "2020-05-04    15078\n",
       "2020-05-05    15253\n",
       "Name: 139, Length: 66, dtype: object"
      ]
     },
     "execution_count": 218,
     "metadata": {},
     "output_type": "execute_result"
    }
   ],
   "source": [
    "df_japan.index = pd.to_datetime(df_japan.index)\n",
    "df_japan"
   ]
  },
  {
   "cell_type": "code",
   "execution_count": null,
   "metadata": {},
   "outputs": [],
   "source": []
  },
  {
   "cell_type": "code",
   "execution_count": 219,
   "metadata": {},
   "outputs": [
    {
     "data": {
      "text/plain": [
       "[<matplotlib.lines.Line2D at 0x2740d806fc8>]"
      ]
     },
     "execution_count": 219,
     "metadata": {},
     "output_type": "execute_result"
    },
    {
     "data": {
      "image/png": "[encoded data removed]",
      "text/plain": [
       "<Figure size 432x288 with 1 Axes>"
      ]
     },
     "metadata": {
      "needs_background": "light"
     },
     "output_type": "display_data"
    }
   ],
   "source": [
    "plt.plot(df_japan)"
   ]
  },
  {
   "cell_type": "code",
   "execution_count": 335,
   "metadata": {},
   "outputs": [],
   "source": [
    "y = df_japan.values.astype(float)"
   ]
  },
  {
   "cell_type": "code",
   "execution_count": 336,
   "metadata": {},
   "outputs": [],
   "source": [
    "test_size = 3\n",
    "train_original_data = y[:-test_size]\n",
    "test_original_data = y[-test_size:]"
   ]
  },
  {
   "cell_type": "code",
   "execution_count": 337,
   "metadata": {},
   "outputs": [],
   "source": [
    "from sklearn.preprocessing import MinMaxScaler\n",
    "scaler = MinMaxScaler(feature_range=(-1,1))"
   ]
  },
  {
   "cell_type": "code",
   "execution_count": 338,
   "metadata": {},
   "outputs": [
    {
     "data": {
      "text/plain": [
       "(63, 1)"
      ]
     },
     "execution_count": 338,
     "metadata": {},
     "output_type": "execute_result"
    }
   ],
   "source": [
    "train_normalized = scaler.fit_transform(train_original_data.reshape(-1,1))\n",
    "train_normalized.shape"
   ]
  },
  {
   "cell_type": "code",
   "execution_count": 393,
   "metadata": {},
   "outputs": [],
   "source": [
    "train_normalized = torch.FloatTensor(train_normalized).view(-1)\n",
    "window_size = 5"
   ]
  },
  {
   "cell_type": "code",
   "execution_count": 394,
   "metadata": {},
   "outputs": [],
   "source": [
    "def sequence_creator(input_data, window):\n",
    "    dataset = []\n",
    "    data_len = len(input_data)\n",
    "    for i in range(data_len - window):\n",
    "        window_fr = input_data[i:i+window]\n",
    "        label = input_data[i+window:i+window+1]\n",
    "        dataset.append((window_fr, label))\n",
    "    return dataset"
   ]
  },
  {
   "cell_type": "code",
   "execution_count": 395,
   "metadata": {},
   "outputs": [],
   "source": [
    "train_data = sequence_creator(train_normalized, window_size)"
   ]
  },
  {
   "cell_type": "code",
   "execution_count": 396,
   "metadata": {},
   "outputs": [],
   "source": [
    "class LSTM_Corona(nn.Module):\n",
    "    def __init__(self, in_size=1, h_size=30, out_size=1):\n",
    "        super().__init__()\n",
    "        self.h_size = h_size\n",
    "        self.lstm = nn.LSTM(in_size, h_size)\n",
    "        self.fc = nn.Linear(h_size, out_size)\n",
    "        \n",
    "        self.hidden = (torch.zeros(1,1,h_size),torch.zeros(1,1,h_size))\n",
    "        \n",
    "    def forward(self, sequence_data):\n",
    "        lstm_out, self.hidden = self.lstm(sequence_data.view(len(sequence_data),1,-1), self.hidden)\n",
    "        pred = self.fc(lstm_out.view(len(sequence_data), -1))\n",
    "        \n",
    "        return pred[-1]"
   ]
  },
  {
   "cell_type": "code",
   "execution_count": 397,
   "metadata": {},
   "outputs": [],
   "source": [
    "torch.manual_seed(1)\n",
    "model = LSTM_Corona()\n",
    "criterion = nn.MSELoss()\n",
    "optimizer = torch.optim.Adam(model.parameters(), lr=0.001)"
   ]
  },
  {
   "cell_type": "code",
   "execution_count": 398,
   "metadata": {
    "scrolled": true
   },
   "outputs": [
    {
     "name": "stdout",
     "output_type": "stream",
     "text": [
      "Epoch 1 Loss  0.933\n",
      "Epoch 2 Loss  0.520\n",
      "Epoch 3 Loss  0.074\n",
      "Epoch 4 Loss  0.009\n",
      "Epoch 5 Loss  0.002\n",
      "Epoch 6 Loss  0.004\n",
      "Epoch 7 Loss  0.001\n",
      "Epoch 8 Loss  0.003\n",
      "Epoch 9 Loss  0.001\n",
      "Epoch 10 Loss  0.002\n",
      "Epoch 11 Loss  0.001\n",
      "Epoch 12 Loss  0.001\n",
      "Epoch 13 Loss  0.001\n",
      "Epoch 14 Loss  0.001\n",
      "Epoch 15 Loss  0.001\n",
      "Epoch 16 Loss  0.001\n",
      "Epoch 17 Loss  0.001\n",
      "Epoch 18 Loss  0.001\n",
      "Epoch 19 Loss  0.001\n",
      "Epoch 20 Loss  0.001\n",
      "Epoch 21 Loss  0.001\n",
      "Epoch 22 Loss  0.001\n",
      "Epoch 23 Loss  0.001\n",
      "Epoch 24 Loss  0.001\n",
      "Epoch 25 Loss  0.001\n",
      "Epoch 26 Loss  0.001\n",
      "Epoch 27 Loss  0.000\n",
      "Epoch 28 Loss  0.000\n",
      "Epoch 29 Loss  0.000\n",
      "Epoch 30 Loss  0.000\n",
      "Epoch 31 Loss  0.000\n",
      "Epoch 32 Loss  0.000\n",
      "Epoch 33 Loss  0.000\n",
      "Epoch 34 Loss  0.000\n",
      "Epoch 35 Loss  0.000\n",
      "Epoch 36 Loss  0.000\n",
      "Epoch 37 Loss  0.000\n",
      "Epoch 38 Loss  0.000\n",
      "Epoch 39 Loss  0.000\n",
      "Epoch 40 Loss  0.000\n",
      "Epoch 41 Loss  0.000\n",
      "Epoch 42 Loss  0.000\n",
      "Epoch 43 Loss  0.000\n",
      "Epoch 44 Loss  0.000\n",
      "Epoch 45 Loss  0.000\n",
      "Epoch 46 Loss  0.000\n",
      "Epoch 47 Loss  0.000\n",
      "Epoch 48 Loss  0.000\n",
      "Epoch 49 Loss  0.000\n",
      "Epoch 50 Loss  0.000\n",
      "Epoch 51 Loss  0.000\n",
      "Epoch 52 Loss  0.000\n",
      "Epoch 53 Loss  0.000\n",
      "Epoch 54 Loss  0.000\n",
      "Epoch 55 Loss  0.000\n",
      "Epoch 56 Loss  0.000\n",
      "Epoch 57 Loss  0.000\n",
      "Epoch 58 Loss  0.000\n",
      "Epoch 59 Loss  0.000\n",
      "Epoch 60 Loss  0.000\n",
      "Epoch 61 Loss  0.000\n",
      "Epoch 62 Loss  0.000\n",
      "Epoch 63 Loss  0.000\n",
      "Epoch 64 Loss  0.000\n",
      "Epoch 65 Loss  0.000\n",
      "Epoch 66 Loss  0.000\n",
      "Epoch 67 Loss  0.000\n",
      "Epoch 68 Loss  0.000\n",
      "Epoch 69 Loss  0.000\n",
      "Epoch 70 Loss  0.000\n",
      "Epoch 71 Loss  0.000\n",
      "Epoch 72 Loss  0.000\n",
      "Epoch 73 Loss  0.000\n",
      "Epoch 74 Loss  0.000\n",
      "Epoch 75 Loss  0.000\n",
      "Epoch 76 Loss  0.000\n",
      "Epoch 77 Loss  0.000\n",
      "Epoch 78 Loss  0.000\n",
      "Epoch 79 Loss  0.000\n",
      "Epoch 80 Loss  0.000\n",
      "Epoch 81 Loss  0.000\n",
      "Epoch 82 Loss  0.000\n",
      "Epoch 83 Loss  0.000\n",
      "Epoch 84 Loss  0.000\n",
      "Epoch 85 Loss  0.000\n",
      "Epoch 86 Loss  0.000\n",
      "Epoch 87 Loss  0.000\n",
      "Epoch 88 Loss  0.000\n",
      "Epoch 89 Loss  0.000\n",
      "Epoch 90 Loss  0.000\n",
      "Epoch 91 Loss  0.000\n",
      "Epoch 92 Loss  0.000\n",
      "Epoch 93 Loss  0.000\n",
      "Epoch 94 Loss  0.000\n",
      "Epoch 95 Loss  0.000\n",
      "Epoch 96 Loss  0.000\n",
      "Epoch 97 Loss  0.000\n",
      "Epoch 98 Loss  0.000\n",
      "Epoch 99 Loss  0.000\n",
      "Epoch 100 Loss  0.000\n"
     ]
    }
   ],
   "source": [
    "model.train()\n",
    "\n",
    "epochs = 100\n",
    "\n",
    "for epoch in range(epochs):\n",
    "    for sequence_in, y_train in train_data:\n",
    "        y_pred = model(sequence_in)\n",
    "        loss = criterion(y_pred, y_train)\n",
    "        \n",
    "        optimizer.zero_grad()\n",
    "        model.hidden = (torch.zeros(1,1,model.h_size),torch.zeros(1,1,model.h_size))\n",
    "        \n",
    "        loss.backward()\n",
    "        optimizer.step()\n",
    "    \n",
    "    print(f'Epoch {epoch+1} Loss {loss.item(): .3f}')"
   ]
  },
  {
   "cell_type": "code",
   "execution_count": 399,
   "metadata": {},
   "outputs": [],
   "source": [
    "test = 3\n",
    "\n",
    "preds = train_normalized[-window_size:].tolist()\n",
    "\n",
    "model.eval()\n",
    "\n",
    "for i in range(test):\n",
    "    sequence = torch.FloatTensor(preds[-window_size:])\n",
    "    with torch.no_grad():\n",
    "        model.hidden = (torch.zeros(1,1,model.h_size), torch.zeros(1,1,model.h_size))\n",
    "        preds.append(model(sequence).item())"
   ]
  },
  {
   "cell_type": "code",
   "execution_count": 400,
   "metadata": {},
   "outputs": [],
   "source": [
    "predictions = scaler.inverse_transform(np.array(preds[window_size:]).reshape(-1,1))"
   ]
  },
  {
   "cell_type": "code",
   "execution_count": 401,
   "metadata": {},
   "outputs": [
    {
     "data": {
      "text/plain": [
       "array([[15310.91787034],\n",
       "       [15418.84535861],\n",
       "       [15515.04499882]])"
      ]
     },
     "execution_count": 401,
     "metadata": {},
     "output_type": "execute_result"
    }
   ],
   "source": [
    "predictions"
   ]
  },
  {
   "cell_type": "code",
   "execution_count": 402,
   "metadata": {},
   "outputs": [],
   "source": [
    "df_japan = pd.DataFrame(df_japan)"
   ]
  },
  {
   "cell_type": "code",
   "execution_count": 403,
   "metadata": {},
   "outputs": [],
   "source": [
    "# x = np.arange('2020-05-03', '2020-05-06', dtype='datetime64[D]').astype('datetime64[D]')\n",
    "x = np.arange('2020-05-03','2020-05-06', dtype='datetime64[D]').astype('datetime64[D]')"
   ]
  },
  {
   "cell_type": "code",
   "execution_count": 404,
   "metadata": {},
   "outputs": [
    {
     "data": {
      "image/png": "[encoded data removed]",
      "text/plain": [
       "<Figure size 1080x576 with 1 Axes>"
      ]
     },
     "metadata": {
      "needs_background": "light"
     },
     "output_type": "display_data"
    }
   ],
   "source": [
    "plt.figure(figsize=(15,8))\n",
    "plt.grid(True)\n",
    "plt.plot(df_japan)\n",
    "plt.plot(x, predictions)\n",
    "plt.show()"
   ]
  },
  {
   "cell_type": "code",
   "execution_count": null,
   "metadata": {},
   "outputs": [],
   "source": []
  },
  {
   "cell_type": "code",
   "execution_count": 405,
   "metadata": {},
   "outputs": [],
   "source": [
    "epochs = 200\n",
    "model.train()\n",
    "\n",
    "y_normalized = scaler.fit_transform(y.reshape(-1,1))\n",
    "y_normalized = torch.FloatTensor(y_normalized).view(-1)\n",
    "full_data = sequence_creator(y_normalized, window_size)"
   ]
  },
  {
   "cell_type": "code",
   "execution_count": 406,
   "metadata": {
    "scrolled": true
   },
   "outputs": [
    {
     "name": "stdout",
     "output_type": "stream",
     "text": [
      "Epoch 1 Loss 0.00044\n",
      "Epoch 2 Loss 0.00223\n",
      "Epoch 3 Loss 0.00406\n",
      "Epoch 4 Loss 0.00459\n",
      "Epoch 5 Loss 0.00444\n",
      "Epoch 6 Loss 0.00395\n",
      "Epoch 7 Loss 0.00346\n",
      "Epoch 8 Loss 0.00310\n",
      "Epoch 9 Loss 0.00293\n",
      "Epoch 10 Loss 0.00288\n",
      "Epoch 11 Loss 0.00286\n",
      "Epoch 12 Loss 0.00283\n",
      "Epoch 13 Loss 0.00281\n",
      "Epoch 14 Loss 0.00281\n",
      "Epoch 15 Loss 0.00281\n",
      "Epoch 16 Loss 0.00281\n",
      "Epoch 17 Loss 0.00280\n",
      "Epoch 18 Loss 0.00278\n",
      "Epoch 19 Loss 0.00276\n",
      "Epoch 20 Loss 0.00274\n",
      "Epoch 21 Loss 0.00271\n",
      "Epoch 22 Loss 0.00269\n",
      "Epoch 23 Loss 0.00266\n",
      "Epoch 24 Loss 0.00264\n",
      "Epoch 25 Loss 0.00261\n",
      "Epoch 26 Loss 0.00259\n",
      "Epoch 27 Loss 0.00256\n",
      "Epoch 28 Loss 0.00253\n",
      "Epoch 29 Loss 0.00251\n",
      "Epoch 30 Loss 0.00249\n",
      "Epoch 31 Loss 0.00246\n",
      "Epoch 32 Loss 0.00244\n",
      "Epoch 33 Loss 0.00242\n",
      "Epoch 34 Loss 0.00239\n",
      "Epoch 35 Loss 0.00237\n",
      "Epoch 36 Loss 0.00235\n",
      "Epoch 37 Loss 0.00232\n",
      "Epoch 38 Loss 0.00230\n",
      "Epoch 39 Loss 0.00228\n",
      "Epoch 40 Loss 0.00226\n",
      "Epoch 41 Loss 0.00224\n",
      "Epoch 42 Loss 0.00222\n",
      "Epoch 43 Loss 0.00221\n",
      "Epoch 44 Loss 0.00219\n",
      "Epoch 45 Loss 0.00218\n",
      "Epoch 46 Loss 0.00217\n",
      "Epoch 47 Loss 0.00216\n",
      "Epoch 48 Loss 0.00214\n",
      "Epoch 49 Loss 0.00213\n",
      "Epoch 50 Loss 0.00212\n",
      "Epoch 51 Loss 0.00211\n",
      "Epoch 52 Loss 0.00210\n",
      "Epoch 53 Loss 0.00209\n",
      "Epoch 54 Loss 0.00207\n",
      "Epoch 55 Loss 0.00206\n",
      "Epoch 56 Loss 0.00205\n",
      "Epoch 57 Loss 0.00204\n",
      "Epoch 58 Loss 0.00202\n",
      "Epoch 59 Loss 0.00201\n",
      "Epoch 60 Loss 0.00199\n",
      "Epoch 61 Loss 0.00198\n",
      "Epoch 62 Loss 0.00196\n",
      "Epoch 63 Loss 0.00195\n",
      "Epoch 64 Loss 0.00194\n",
      "Epoch 65 Loss 0.00192\n",
      "Epoch 66 Loss 0.00191\n",
      "Epoch 67 Loss 0.00189\n",
      "Epoch 68 Loss 0.00188\n",
      "Epoch 69 Loss 0.00187\n",
      "Epoch 70 Loss 0.00186\n",
      "Epoch 71 Loss 0.00185\n",
      "Epoch 72 Loss 0.00184\n",
      "Epoch 73 Loss 0.00183\n",
      "Epoch 74 Loss 0.00182\n",
      "Epoch 75 Loss 0.00181\n",
      "Epoch 76 Loss 0.00181\n",
      "Epoch 77 Loss 0.00180\n",
      "Epoch 78 Loss 0.00179\n",
      "Epoch 79 Loss 0.00179\n",
      "Epoch 80 Loss 0.00178\n",
      "Epoch 81 Loss 0.00178\n",
      "Epoch 82 Loss 0.00177\n",
      "Epoch 83 Loss 0.00177\n",
      "Epoch 84 Loss 0.00176\n",
      "Epoch 85 Loss 0.00176\n",
      "Epoch 86 Loss 0.00175\n",
      "Epoch 87 Loss 0.00175\n",
      "Epoch 88 Loss 0.00175\n",
      "Epoch 89 Loss 0.00174\n",
      "Epoch 90 Loss 0.00174\n",
      "Epoch 91 Loss 0.00173\n",
      "Epoch 92 Loss 0.00173\n",
      "Epoch 93 Loss 0.00173\n",
      "Epoch 94 Loss 0.00172\n",
      "Epoch 95 Loss 0.00172\n",
      "Epoch 96 Loss 0.00172\n",
      "Epoch 97 Loss 0.00171\n",
      "Epoch 98 Loss 0.00171\n",
      "Epoch 99 Loss 0.00171\n",
      "Epoch 100 Loss 0.00170\n",
      "Epoch 101 Loss 0.00170\n",
      "Epoch 102 Loss 0.00169\n",
      "Epoch 103 Loss 0.00169\n",
      "Epoch 104 Loss 0.00168\n",
      "Epoch 105 Loss 0.00168\n",
      "Epoch 106 Loss 0.00168\n",
      "Epoch 107 Loss 0.00167\n",
      "Epoch 108 Loss 0.00167\n",
      "Epoch 109 Loss 0.00166\n",
      "Epoch 110 Loss 0.00166\n",
      "Epoch 111 Loss 0.00165\n",
      "Epoch 112 Loss 0.00164\n",
      "Epoch 113 Loss 0.00164\n",
      "Epoch 114 Loss 0.00163\n",
      "Epoch 115 Loss 0.00163\n",
      "Epoch 116 Loss 0.00162\n",
      "Epoch 117 Loss 0.00162\n",
      "Epoch 118 Loss 0.00161\n",
      "Epoch 119 Loss 0.00160\n",
      "Epoch 120 Loss 0.00160\n",
      "Epoch 121 Loss 0.00159\n",
      "Epoch 122 Loss 0.00158\n",
      "Epoch 123 Loss 0.00158\n",
      "Epoch 124 Loss 0.00157\n",
      "Epoch 125 Loss 0.00156\n",
      "Epoch 126 Loss 0.00156\n",
      "Epoch 127 Loss 0.00155\n",
      "Epoch 128 Loss 0.00154\n",
      "Epoch 129 Loss 0.00154\n",
      "Epoch 130 Loss 0.00153\n",
      "Epoch 131 Loss 0.00152\n",
      "Epoch 132 Loss 0.00151\n",
      "Epoch 133 Loss 0.00151\n",
      "Epoch 134 Loss 0.00150\n",
      "Epoch 135 Loss 0.00149\n",
      "Epoch 136 Loss 0.00148\n",
      "Epoch 137 Loss 0.00148\n",
      "Epoch 138 Loss 0.00147\n",
      "Epoch 139 Loss 0.00146\n",
      "Epoch 140 Loss 0.00145\n",
      "Epoch 141 Loss 0.00145\n",
      "Epoch 142 Loss 0.00144\n",
      "Epoch 143 Loss 0.00143\n",
      "Epoch 144 Loss 0.00142\n",
      "Epoch 145 Loss 0.00141\n",
      "Epoch 146 Loss 0.00140\n",
      "Epoch 147 Loss 0.00140\n",
      "Epoch 148 Loss 0.00139\n",
      "Epoch 149 Loss 0.00138\n",
      "Epoch 150 Loss 0.00137\n",
      "Epoch 151 Loss 0.00136\n",
      "Epoch 152 Loss 0.00135\n",
      "Epoch 153 Loss 0.00134\n",
      "Epoch 154 Loss 0.00134\n",
      "Epoch 155 Loss 0.00133\n",
      "Epoch 156 Loss 0.00132\n",
      "Epoch 157 Loss 0.00131\n",
      "Epoch 158 Loss 0.00130\n",
      "Epoch 159 Loss 0.00129\n",
      "Epoch 160 Loss 0.00128\n",
      "Epoch 161 Loss 0.00127\n",
      "Epoch 162 Loss 0.00126\n",
      "Epoch 163 Loss 0.00125\n",
      "Epoch 164 Loss 0.00124\n",
      "Epoch 165 Loss 0.00123\n",
      "Epoch 166 Loss 0.00122\n",
      "Epoch 167 Loss 0.00121\n",
      "Epoch 168 Loss 0.00120\n",
      "Epoch 169 Loss 0.00120\n",
      "Epoch 170 Loss 0.00119\n",
      "Epoch 171 Loss 0.00118\n",
      "Epoch 172 Loss 0.00117\n",
      "Epoch 173 Loss 0.00116\n",
      "Epoch 174 Loss 0.00115\n",
      "Epoch 175 Loss 0.00114\n",
      "Epoch 176 Loss 0.00113\n",
      "Epoch 177 Loss 0.00112\n",
      "Epoch 178 Loss 0.00111\n",
      "Epoch 179 Loss 0.00110\n",
      "Epoch 180 Loss 0.00109\n",
      "Epoch 181 Loss 0.00108\n",
      "Epoch 182 Loss 0.00107\n",
      "Epoch 183 Loss 0.00106\n",
      "Epoch 184 Loss 0.00106\n",
      "Epoch 185 Loss 0.00105\n",
      "Epoch 186 Loss 0.00104\n",
      "Epoch 187 Loss 0.00103\n",
      "Epoch 188 Loss 0.00102\n",
      "Epoch 189 Loss 0.00101\n",
      "Epoch 190 Loss 0.00100\n",
      "Epoch 191 Loss 0.00099\n",
      "Epoch 192 Loss 0.00099\n",
      "Epoch 193 Loss 0.00098\n",
      "Epoch 194 Loss 0.00097\n",
      "Epoch 195 Loss 0.00096\n",
      "Epoch 196 Loss 0.00095\n",
      "Epoch 197 Loss 0.00094\n",
      "Epoch 198 Loss 0.00094\n",
      "Epoch 199 Loss 0.00093\n",
      "Epoch 200 Loss 0.00092\n"
     ]
    }
   ],
   "source": [
    "for epoch in range(epochs):\n",
    "    for sequence_in, y_train in full_data:\n",
    "        y_pred = model(sequence_in)\n",
    "        loss = criterion(y_pred, y_train)\n",
    "        \n",
    "        optimizer.zero_grad()\n",
    "        model.hidden = (torch.zeros(1,1,model.h_size), torch.zeros(1,1,model.h_size))\n",
    "        \n",
    "        loss.backward()\n",
    "        optimizer.step()\n",
    "        \n",
    "    print(f'Epoch {epoch+1} Loss {loss.item():.5f}')"
   ]
  },
  {
   "cell_type": "code",
   "execution_count": 407,
   "metadata": {},
   "outputs": [],
   "source": [
    "future = 10\n",
    "\n",
    "preds = y_normalized[-window_size:].tolist()\n",
    "\n",
    "model.eval()\n",
    "\n",
    "for i in range(future):\n",
    "    sequence = torch.FloatTensor(preds[-window_size:])\n",
    "    \n",
    "    with torch.no_grad():\n",
    "        model.hidden = (torch.zeros(1,1,model.h_size),torch.zeros(1,1,model.h_size))\n",
    "        preds.append(model(sequence).item())\n",
    "        \n",
    "predictions = scaler.inverse_transform(np.array(preds).reshape(-1,1))\n",
    "\n",
    "\n",
    "x = np.arange('2020-05-07', '2020-05-17', dtype='datetime64[D]').astype('datetime64[D]')"
   ]
  },
  {
   "cell_type": "code",
   "execution_count": 408,
   "metadata": {
    "scrolled": false
   },
   "outputs": [
    {
     "data": {
      "text/plain": [
       "[<matplotlib.lines.Line2D at 0x2740dcae108>]"
      ]
     },
     "execution_count": 408,
     "metadata": {},
     "output_type": "execute_result"
    },
    {
     "data": {
      "image/png": "[encoded data removed]",
      "text/plain": [
       "<Figure size 1296x576 with 1 Axes>"
      ]
     },
     "metadata": {
      "needs_background": "light"
     },
     "output_type": "display_data"
    }
   ],
   "source": [
    "plt.figure(figsize=(18, 8))\n",
    "\n",
    "plt.title('prediction of the number of person getting affect corona virus')\n",
    "plt.grid(True)\n",
    "plt.plot(df_japan)\n",
    "plt.plot(x,predictions[window_size:])"
   ]
  },
  {
   "cell_type": "code",
   "execution_count": null,
   "metadata": {},
   "outputs": [],
   "source": []
  },
  {
   "cell_type": "code",
   "execution_count": null,
   "metadata": {},
   "outputs": [],
   "source": []
  }
 ],
 "metadata": {
  "kernelspec": {
   "display_name": "Python 3",
   "language": "python",
   "name": "python3"
  },
  "language_info": {
   "codemirror_mode": {
    "name": "ipython",
    "version": 3
   },
   "file_extension": ".py",
   "mimetype": "text/x-python",
   "name": "python",
   "nbconvert_exporter": "python",
   "pygments_lexer": "ipython3",
   "version": "3.7.7"
  }
 },
 "nbformat": 4,
 "nbformat_minor": 4
}
